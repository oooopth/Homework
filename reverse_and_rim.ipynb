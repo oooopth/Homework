{
 "cells": [
  {
   "cell_type": "code",
   "execution_count": 1,
   "metadata": {},
   "outputs": [
    {
     "name": "stdout",
     "output_type": "stream",
     "text": [
      "{39: ['Бережной', 'Можаев'], 40: ['Косырев', 'Избеков'], 48: ['Живописцев'], 30: ['Шпанчук'], 20: ['Сикамов', 'Кирилл'], 9: ['Пенясов'], 15: ['Лихачёва'], 35: ['Денискина', 'Тропина'], 28: ['Федоров']}\n"
     ]
    }
   ],
   "source": [
    "M = {'Бережной' : 39,\n",
    "     'Косырев' : 40,\n",
    "     'Живописцев' : 48,\n",
    "     'Шпанчук' : 30,\n",
    "     'Сикамов' : 20,\n",
    "     'Кирилл' : 20,\n",
    "     'Можаев' : 39,\n",
    "     'Избеков' : 40,\n",
    "     'Пенясов' : 9,\n",
    "     'Лихачёва' : 15,\n",
    "     'Денискина' : 35,\n",
    "     'Федоров' : 28,\n",
    "     'Тропина' : 35}\n",
    "\n",
    "A = {}\n",
    "for key, val in M.items():\n",
    "    if val in A:\n",
    "        A[val].append(key)\n",
    "    else:\n",
    "        A[val] = [key]\n",
    "print(A)"
   ]
  },
  {
   "cell_type": "code",
   "execution_count": 3,
   "metadata": {},
   "outputs": [],
   "source": [
    "def rim_to_int(s):\n",
    "    D = {'I': 1, 'V': 5, 'X': 10, 'L': 50, 'C': 100, 'D': 500, 'M': 1000}\n",
    "    i = len(s) - 1\n",
    "    res = 0\n",
    "    while i > 0:\n",
    "        if D[s[i]] <= D[s[i - 1]]:\n",
    "            res += D[s[i]]\n",
    "            i -= 1\n",
    "        else:\n",
    "            res += D[s[i]] - D[s[i - 1]]\n",
    "            i -= 2\n",
    "    if i == 0:\n",
    "        res += D[s[0]]\n",
    "    return res"
   ]
  },
  {
   "cell_type": "code",
   "execution_count": 7,
   "metadata": {},
   "outputs": [
    {
     "data": {
      "text/plain": [
       "38"
      ]
     },
     "execution_count": 7,
     "metadata": {},
     "output_type": "execute_result"
    }
   ],
   "source": [
    "rim_to_int('XXXVIII')"
   ]
  },
  {
   "cell_type": "code",
   "execution_count": null,
   "metadata": {},
   "outputs": [],
   "source": []
  }
 ],
 "metadata": {
  "kernelspec": {
   "display_name": "Python 3",
   "language": "python",
   "name": "python3"
  },
  "language_info": {
   "codemirror_mode": {
    "name": "ipython",
    "version": 3
   },
   "file_extension": ".py",
   "mimetype": "text/x-python",
   "name": "python",
   "nbconvert_exporter": "python",
   "pygments_lexer": "ipython3",
   "version": "3.7.2"
  }
 },
 "nbformat": 4,
 "nbformat_minor": 2
}
