{
 "cells": [
  {
   "cell_type": "code",
   "execution_count": 35,
   "metadata": {},
   "outputs": [],
   "source": [
    "def solve(xs, ys, x):\n",
    "    n = len(xs)\n",
    "    y = 0\n",
    "    for i in range(0, n):\n",
    "        l = 1\n",
    "        for j in range(0, n):\n",
    "            if j == i:\n",
    "                continue\n",
    "            l *= (x - xs[j]) / (xs[i] - xs[j])\n",
    "        y += ys[i] * l\n",
    "    return y"
   ]
  },
  {
   "cell_type": "code",
   "execution_count": 36,
   "metadata": {},
   "outputs": [],
   "source": [
    "xs = [0.98768834, 0.89100652, 0.70710678, 0.4539905, 0.15643447, -0.15643447, -0.4539905, -0.70710678, -0.89100652]"
   ]
  },
  {
   "cell_type": "code",
   "execution_count": 37,
   "metadata": {},
   "outputs": [],
   "source": [
    "ys = [2.92041968, 2.39212046, 1.73205081, 1.25411744, 1.02724962, 1.02724962, 1.25411744, 1.73205081, 2.39212046]"
   ]
  },
  {
   "cell_type": "code",
   "execution_count": 38,
   "metadata": {},
   "outputs": [],
   "source": [
    "import numpy\n",
    "\n",
    "xs_draw = numpy.arange(-1, 1.1, 0.01)"
   ]
  },
  {
   "cell_type": "code",
   "execution_count": 40,
   "metadata": {},
   "outputs": [],
   "source": [
    "ys_draw = []\n",
    "n = len(xs_draw)\n",
    "for i in range(0, n):\n",
    "    ys_draw.append(solve(xs, ys, xs_draw[i]))"
   ]
  },
  {
   "cell_type": "code",
   "execution_count": 43,
   "metadata": {},
   "outputs": [
    {
     "data": {
      "image/png": "[encoded data removed]",
      "text/plain": [
       "<Figure size 432x288 with 1 Axes>"
      ]
     },
     "metadata": {
      "needs_background": "light"
     },
     "output_type": "display_data"
    }
   ],
   "source": [
    "import matplotlib.pyplot as plt\n",
    "plt.plot(xs, ys, 'o')\n",
    "plt.plot(xs_draw, ys_draw, '-', color='red')  # вместо '-' можно использовать '--' или 'o-'\n",
    "plt.show()"
   ]
  },
  {
   "cell_type": "code",
   "execution_count": null,
   "metadata": {},
   "outputs": [],
   "source": []
  }
 ],
 "metadata": {
  "kernelspec": {
   "display_name": "Python 3",
   "language": "python",
   "name": "python3"
  },
  "language_info": {
   "codemirror_mode": {
    "name": "ipython",
    "version": 3
   },
   "file_extension": ".py",
   "mimetype": "text/x-python",
   "name": "python",
   "nbconvert_exporter": "python",
   "pygments_lexer": "ipython3",
   "version": "3.7.1"
  }
 },
 "nbformat": 4,
 "nbformat_minor": 2
}
