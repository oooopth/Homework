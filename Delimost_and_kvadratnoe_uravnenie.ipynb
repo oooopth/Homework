{
 "cells": [
  {
   "cell_type": "code",
   "execution_count": 1,
   "metadata": {},
   "outputs": [
    {
     "name": "stdout",
     "output_type": "stream",
     "text": [
      "315   33165\n"
     ]
    }
   ],
   "source": [
    "#сумма чисел, делящихся на 3 и на 5\n",
    "def f(n):\n",
    "    s = 0\n",
    "    for x in range(n):\n",
    "        if x % 3 == 0 and x % 5 == 0:\n",
    "            s += x\n",
    "    return s\n",
    "\n",
    "n1 = 100\n",
    "n2 = 1000\n",
    "s1 = f(n1) #должно быть равно 15 + 30 + 45 + 60 + 75 + 90 = 315\n",
    "s2 = f(n2)\n",
    "print(s1, ' ', s2)"
   ]
  },
  {
   "cell_type": "code",
   "execution_count": 3,
   "metadata": {},
   "outputs": [
    {
     "name": "stdout",
     "output_type": "stream",
     "text": [
      "3\n",
      "8\n",
      "40\n",
      "-1.3333333333333333 + 3.3993463423951895 *i\n",
      "-1.3333333333333333 - 3.3993463423951895 *i\n"
     ]
    }
   ],
   "source": [
    "a = int(input())\n",
    "b = int(input())\n",
    "c = int(input())\n",
    "d = b ** 2 - 4 * a * c\n",
    "if d == 0:\n",
    "    x = -b / (2 * a)\n",
    "    print(x)\n",
    "if d > 0:\n",
    "    x1 = (-b + d ** (0.5)) / (2 * a)\n",
    "    x2 = (-b - d ** (0.5)) / (2 * a)\n",
    "    print(x1, ' ', x2)\n",
    "if d < 0:\n",
    "    f = -b / (2 * a)\n",
    "    g = ((-d) ** (0.5)) / (2 * a)\n",
    "    print(f, '+', g, '*i')\n",
    "    print(f, '-', g, '*i')"
   ]
  },
  {
   "cell_type": "code",
   "execution_count": null,
   "metadata": {},
   "outputs": [],
   "source": []
  }
 ],
 "metadata": {
  "kernelspec": {
   "display_name": "Python 3",
   "language": "python",
   "name": "python3"
  },
  "language_info": {
   "codemirror_mode": {
    "name": "ipython",
    "version": 3
   },
   "file_extension": ".py",
   "mimetype": "text/x-python",
   "name": "python",
   "nbconvert_exporter": "python",
   "pygments_lexer": "ipython3",
   "version": "3.7.2"
  }
 },
 "nbformat": 4,
 "nbformat_minor": 2
}
